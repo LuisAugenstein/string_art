{
 "cells": [
  {
   "cell_type": "markdown",
   "metadata": {},
   "source": [
    "# Stringart\n",
    "This project aims to reconstruct a grayscale input image by using black strings spanned between pins on the outside of a light circular canvas."
   ]
  },
  {
   "cell_type": "code",
   "execution_count": 1,
   "metadata": {},
   "outputs": [],
   "source": [
    "import torch\n",
    "torch.set_default_dtype(torch.float64)"
   ]
  },
  {
   "cell_type": "code",
   "execution_count": 6,
   "metadata": {},
   "outputs": [
    {
     "data": {
      "image/png": "[encoded data removed]",
      "text/plain": [
       "<Figure size 640x480 with 1 Axes>"
      ]
     },
     "metadata": {},
     "output_type": "display_data"
    }
   ],
   "source": [
    "import matplotlib.pyplot as plt\n",
    "from string_art.image import load_input_image, create_circular_mask\n",
    "from string_art import pins\n",
    "\n",
    "IMAGE_SIZE = 64\n",
    "N_pins = 8\n",
    "\n",
    "# visualize input image\n",
    "img = load_input_image('data/inputs/smiley.png', IMAGE_SIZE) # [H, W]\n",
    "circular_mask = create_circular_mask(IMAGE_SIZE, radius=IMAGE_SIZE//2-5)\n",
    "img[~circular_mask] = 0.\n",
    "plt.imshow(img.numpy(), cmap='gray')\n",
    "\n",
    "# visualize pin positions\n",
    "pin_positions = pins.point_based(N_pins, IMAGE_SIZE) # [N_pins, 2] first pin on the right then moving counter-clockwise\n",
    "plt.scatter(pin_positions[:, 1].numpy(), pin_positions[:, 0].numpy(), c='black', s=5)\n",
    "\n",
    "plt.show()"
   ]
  },
  {
   "cell_type": "markdown",
   "metadata": {},
   "source": [
    "### String Matrix Computation"
   ]
  },
  {
   "cell_type": "code",
   "execution_count": null,
   "metadata": {},
   "outputs": [],
   "source": [
    "from string_art.string_matrix import get_string_matrix, line_profile\n",
    "from string_art import edges\n",
    "\n",
    "STRING_WIDTH = 0.5\n",
    "STRING_COLOR = 0.8\n",
    "\n",
    "full_edges = edges.point_based(pin_positions) # [N_pins, 2]\n",
    "A = get_string_matrix(full_edges, line_profile.trapez(STRING_WIDTH, STRING_COLOR), IMAGE_SIZE) # [HW, N_strings]\n",
    "A[~circular_mask.flatten(), :] = 0.\n",
    "_, axs = plt.subplots(1, 4)\n",
    "string_img = torch.zeros(IMAGE_SIZE, IMAGE_SIZE)\n",
    "for i, ax in enumerate(axs):\n",
    "    ax.set_title(f'pin 0 to {i+1}')\n",
    "    a = A[:, i].reshape(IMAGE_SIZE, IMAGE_SIZE) # [H, W]\n",
    "    string_img += a\n",
    "    ax.imshow(1-string_img, cmap='gray', vmin=0, vmax=1)\n",
    "    ax.scatter(pin_positions[:, 1].numpy(), pin_positions[:, 0].numpy(), c='black', s=5)\n",
    "plt.show()"
   ]
  },
  {
   "cell_type": "markdown",
   "metadata": {},
   "source": [
    "### Optimization"
   ]
  },
  {
   "cell_type": "code",
   "execution_count": 1,
   "metadata": {},
   "outputs": [
    {
     "ename": "NameError",
     "evalue": "name 'plt' is not defined",
     "output_type": "error",
     "traceback": [
      "\u001b[0;31m---------------------------------------------------------------------------\u001b[0m",
      "\u001b[0;31mNameError\u001b[0m                                 Traceback (most recent call last)",
      "Cell \u001b[0;32mIn[1], line 5\u001b[0m\n\u001b[1;32m      2\u001b[0m \u001b[38;5;28;01mimport\u001b[39;00m \u001b[38;5;21;01mstring_art\u001b[39;00m\u001b[38;5;21;01m.\u001b[39;00m\u001b[38;5;21;01medges\u001b[39;00m \u001b[38;5;28;01mas\u001b[39;00m \u001b[38;5;21;01medges\u001b[39;00m\n\u001b[1;32m      3\u001b[0m \u001b[38;5;28;01mfrom\u001b[39;00m \u001b[38;5;21;01mIPython\u001b[39;00m\u001b[38;5;21;01m.\u001b[39;00m\u001b[38;5;21;01mdisplay\u001b[39;00m \u001b[38;5;28;01mimport\u001b[39;00m display, clear_output\n\u001b[0;32m----> 5\u001b[0m fig, ax \u001b[38;5;241m=\u001b[39m \u001b[43mplt\u001b[49m\u001b[38;5;241m.\u001b[39msubplots()  \u001b[38;5;66;03m# Create a figure and axis\u001b[39;00m\n\u001b[1;32m      6\u001b[0m ax\u001b[38;5;241m.\u001b[39mscatter(pin_positions[:, \u001b[38;5;241m1\u001b[39m]\u001b[38;5;241m.\u001b[39mnumpy(), pin_positions[:, \u001b[38;5;241m0\u001b[39m]\u001b[38;5;241m.\u001b[39mnumpy(), c\u001b[38;5;241m=\u001b[39m\u001b[38;5;124m'\u001b[39m\u001b[38;5;124mblack\u001b[39m\u001b[38;5;124m'\u001b[39m, s\u001b[38;5;241m=\u001b[39m\u001b[38;5;241m5\u001b[39m)\n\u001b[1;32m      7\u001b[0m string_img \u001b[38;5;241m=\u001b[39m torch\u001b[38;5;241m.\u001b[39mzeros(IMAGE_SIZE, IMAGE_SIZE)\n",
      "\u001b[0;31mNameError\u001b[0m: name 'plt' is not defined"
     ]
    }
   ],
   "source": [
    "from string_art.optimization import naive_greedy, StringPath\n",
    "import string_art.edges as edges\n",
    "from IPython.display import display, clear_output\n",
    "\n",
    "fig, ax = plt.subplots()  # Create a figure and axis\n",
    "ax.scatter(pin_positions[:, 1].numpy(), pin_positions[:, 0].numpy(), c='black', s=5)\n",
    "string_img = torch.zeros(IMAGE_SIZE, IMAGE_SIZE)\n",
    "img_plot = ax.imshow(1-string_img, cmap='gray', vmin=0, vmax=1) \n",
    "\n",
    "b = img.reshape(-1) # [HW]\n",
    "path = StringPath(edges.index_based(N_pins), start_pin_index=0)\n",
    "for step in range(300):\n",
    "    path = naive_greedy(A, b, path)\n",
    "    new_string = A[:, path.edge_path[-1]] # [HW]\n",
    "    string_img += new_string.reshape(IMAGE_SIZE, IMAGE_SIZE)\n",
    "    # update img plot\n",
    "    ax.set_title(f'image reconstruction step={step}')  # Update the title\n",
    "    img_plot.set_data(1-string_img)\n",
    "    clear_output(wait=True)\n",
    "    display(fig)"
   ]
  }
 ],
 "metadata": {
  "kernelspec": {
   "display_name": "string_art",
   "language": "python",
   "name": "python3"
  },
  "language_info": {
   "codemirror_mode": {
    "name": "ipython",
    "version": 3
   },
   "file_extension": ".py",
   "mimetype": "text/x-python",
   "name": "python",
   "nbconvert_exporter": "python",
   "pygments_lexer": "ipython3",
   "version": "3.12.1"
  }
 },
 "nbformat": 4,
 "nbformat_minor": 2
}
